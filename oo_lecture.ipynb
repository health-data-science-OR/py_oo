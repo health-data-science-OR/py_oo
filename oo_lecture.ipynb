{
 "cells": [
  {
   "cell_type": "markdown",
   "metadata": {},
   "source": [
    "# HPDM097: Class coding basics\n",
    "\n",
    "For the more advanced coding you will be undertaking in computer simulation it is essential that you understand the basics of python classes an object orientation (OO).  We will try and do this in a fun way so you can see the benefits.\n",
    "\n",
    "**In this lecture you will learn:**\n",
    "\n",
    "* That we have been using classes all the way through the course!\n",
    "* How to instantiate multiple instances of a class.\n",
    "* How to declare a class and define a class constructor method.\n",
    "* What is meant by class attributes and methods.\n",
    "\n",
    "> It is worth noting that in python you don't have to use classes you can actually achieve everything with functions.  However, the abstraction benefits of OO are really important for the design and organisation of complex projects."
   ]
  },
  {
   "cell_type": "markdown",
   "metadata": {},
   "source": [
    "# Working with objects: An object orientated text adventure game\n",
    "\n",
    "Back in the late 80s and early 90s a popular type of game on micro-computers, such as the **Commodore 64** and **ZX Spectrum**, was the **text adventure**. These were games where a player had to navigate and solve puzzles in a game world with only text descriptions of locations as their guide!\n",
    "\n",
    "These types of games lend themselves nicely to abstraction offered in object orientated methods of design (and python command line interfaces).  For example, in a very simple implementation we could have a class of type `Game` that accepts a limited number of commands (for example, \"n\" to represent 'go north' or \"look\" to represent 'look and describe the room'.).  The `Game` would encapsulate one or more `Room` objects that describes a location and contain exits to other `Room` objects.  \n",
    "\n",
    "## Text Hospital\n",
    "\n",
    "We will start by creating a text based hospital world.  The game will be comprised by network of three `Room` objects: a reception, a ward and the operating theatre."
   ]
  },
  {
   "cell_type": "markdown",
   "metadata": {},
   "source": [
    "## Imports"
   ]
  },
  {
   "cell_type": "code",
   "execution_count": 1,
   "metadata": {},
   "outputs": [],
   "source": [
    "from text_adventure.basic_game import TextWorld, Room"
   ]
  },
  {
   "cell_type": "markdown",
   "metadata": {},
   "source": [
    "## Setting and getting attributes and methods\n",
    "\n",
    "Each object we will instantiate has its own attribute and methods.  You have come across these before in a different context.  \n",
    "\n",
    "An attribute represents a **variable** that is local to the object.  For example, each `Room` has a `description` attribute. You can access the attribute by following the object name with a **'.'** and then name of the attribute.\n",
    "\n",
    "A method is the same as a **function**, but it is again attached to the object.  For example, objects of type `Room` have a `add_exit(room, direction)` method that allows you to pass in another Room object and a direction of travel from the current room (these are stored in the attribute exit - a dict).\n",
    "\n"
   ]
  },
  {
   "cell_type": "code",
   "execution_count": 2,
   "metadata": {},
   "outputs": [],
   "source": [
    "# Let's instantiate some Room objects to represent our network of rooms\n",
    "\n",
    "#start fo the game = reception\n",
    "reception = Room(name=\"reception\")\n",
    "reception.description = \"\"\"You are stood in the busy hospital reception.\n",
    "To the south, east and west are wards with COVID19 restricted areas. \n",
    "To the north is a corridor.\"\"\"\n",
    "\n",
    "corridor = Room(name='corridor')\n",
    "corridor.description = \"\"\"A long corridor branching in three directions. \n",
    "To the north is signposted 'WARD'.  \n",
    "The south is  signposted 'RECEPTION'.\n",
    "The east is signposted 'THEATRE'\"\"\"\n",
    "\n",
    "ward = Room(name=\"ward\")\n",
    "ward.description = \"\"\"You are on the general medical ward. There are 10 beds\n",
    "and all seem to be full today.  There is a smell of disinfectant. \n",
    "The exit is to the south\"\"\"\n",
    "\n",
    "theatre = Room(name=\"theatre\")\n",
    "theatre.description = 'You are swimming in the deep blue ocean. The sea' + \\\n",
    "                    'is warm today. The shore is to the west.'\n",
    "\n",
    "#add the exits by calling the add_exit() method  \n",
    "reception.add_exit(corridor, 'n')\n",
    "corridor.add_exit(reception, 's')\n",
    "corridor.add_exit(ward, 'n')\n",
    "corridor.add_exit(theatre, 'e')\n",
    "ward.add_exit(corridor, 's')\n",
    "theatre.add_exit(corridor, 'w')\n",
    "\n",
    "rooms_collection = [reception, corridor, ward, theatre]"
   ]
  },
  {
   "cell_type": "code",
   "execution_count": 3,
   "metadata": {},
   "outputs": [
    {
     "name": "stdout",
     "output_type": "stream",
     "text": [
      "Room(name='reception', description='You are stood in the', n_exits=1)\n"
     ]
    }
   ],
   "source": [
    "print(reception)"
   ]
  },
  {
   "cell_type": "code",
   "execution_count": 4,
   "metadata": {},
   "outputs": [
    {
     "name": "stdout",
     "output_type": "stream",
     "text": [
      "You are stood in the busy hospital reception.\n",
      "To the south, east and west are wards with COVID19 restricted areas. \n",
      "To the north is a corridor.\n"
     ]
    }
   ],
   "source": [
    "#let's take a look at the description of reception via its attribute\n",
    "print(reception.description)"
   ]
  },
  {
   "cell_type": "code",
   "execution_count": 5,
   "metadata": {},
   "outputs": [
    {
     "data": {
      "text/plain": [
       "{'n': Room(name='corridor', description='A long corridor bran', n_exits=3)}"
      ]
     },
     "execution_count": 5,
     "metadata": {},
     "output_type": "execute_result"
    }
   ],
   "source": [
    "#reception only has a single exit\n",
    "reception.exits"
   ]
  },
  {
   "cell_type": "code",
   "execution_count": 6,
   "metadata": {},
   "outputs": [
    {
     "data": {
      "text/plain": [
       "{'s': Room(name='reception', description='You are stood in the', n_exits=1),\n",
       " 'n': Room(name='ward', description='You are on the gener', n_exits=1),\n",
       " 'e': Room(name='theatre', description='You are swimming in ', n_exits=1)}"
      ]
     },
     "execution_count": 6,
     "metadata": {},
     "output_type": "execute_result"
    }
   ],
   "source": [
    "#corridor has three exits\n",
    "corridor.exits"
   ]
  },
  {
   "cell_type": "code",
   "execution_count": 7,
   "metadata": {},
   "outputs": [],
   "source": [
    "#create the game room\n",
    "adventure = TextWorld(name='text hospital world', rooms=rooms_collection, \n",
    "                      start_index=0)\n",
    "\n",
    "#set the legal commands for the game\n",
    "#directions a player can move and command they can issue.\n",
    "adventure.legal_commands = ['look']\n",
    "adventure.legal_exits = ['n', 'e', 's', 'w']\n",
    "\n",
    "adventure.opening = \"\"\"Welcome to your local hospital! Unfortunatly due to the \n",
    "pandemic most of the hospital is under restrictions today. But there are a few\n",
    "areas where it is safe to visit.\n",
    "\"\"\""
   ]
  },
  {
   "cell_type": "code",
   "execution_count": 8,
   "metadata": {},
   "outputs": [
    {
     "name": "stdout",
     "output_type": "stream",
     "text": [
      "TextWorld(name='text hospital world', n_rooms=4, legal_exits=['n', 'e', 's', 'w'], legal_commands=['look'],\n",
      "\tcurrent_room=Room(name='reception', description='You are stood in the', n_exits=1))\n"
     ]
    }
   ],
   "source": [
    "print(adventure)"
   ]
  },
  {
   "cell_type": "code",
   "execution_count": 9,
   "metadata": {},
   "outputs": [],
   "source": [
    "def play_text_adventure(adventure):\n",
    "    '''\n",
    "    Play your text adventure!\n",
    "    '''\n",
    "    print('********************************************')\n",
    "    print(adventure.opening, end='\\n\\n')\n",
    "    print(adventure.current_room.description)\n",
    "    \n",
    "    while adventure.active:\n",
    "        user_input = input(\"\\nWhat do you want to do? >>> \")\n",
    "        response = adventure.take_action(user_input)    \n",
    "        print(response)\n",
    "    "
   ]
  },
  {
   "cell_type": "code",
   "execution_count": null,
   "metadata": {},
   "outputs": [
    {
     "name": "stdout",
     "output_type": "stream",
     "text": [
      "********************************************\n",
      "Welcome to your local hospital! Unfortunatly due to the \n",
      "pandemic most of the hospital is under restrictions today. But there are a few\n",
      "areas where it is safe to visit.\n",
      "\n",
      "\n",
      "You are stood in the busy hospital reception.\n",
      "To the south, east and west are wards with COVID19 restricted areas. \n",
      "To the north is a corridor.\n"
     ]
    }
   ],
   "source": [
    "play_text_adventure(adventure)"
   ]
  },
  {
   "cell_type": "code",
   "execution_count": null,
   "metadata": {},
   "outputs": [],
   "source": []
  }
 ],
 "metadata": {
  "kernelspec": {
   "display_name": "Python 3",
   "language": "python",
   "name": "python3"
  },
  "language_info": {
   "codemirror_mode": {
    "name": "ipython",
    "version": 3
   },
   "file_extension": ".py",
   "mimetype": "text/x-python",
   "name": "python",
   "nbconvert_exporter": "python",
   "pygments_lexer": "ipython3",
   "version": "3.7.3"
  }
 },
 "nbformat": 4,
 "nbformat_minor": 4
}
