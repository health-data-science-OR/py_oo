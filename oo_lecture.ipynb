{
 "cells": [
  {
   "cell_type": "markdown",
   "metadata": {},
   "source": [
    "# HPDM097: Class coding basics\n",
    "\n",
    "> For a more detailed treatment of classes see Part IV of *Lutz. (2013). Learning Python. 5th Ed. O'Reilly.*\n",
    "\n",
    "For the more advanced coding you will be undertaking in computer simulation it is essential that you understand the basics of python classes an object orientation (OO).  **The key takeaways from this lecture are that class aid code reuse and design (although when used unwisely they can overcomplicate designs!)**. We will try and do this in a fun way so you can see the benefits.\n",
    "\n",
    "**In this lecture you will learn:**\n",
    "\n",
    "* That we have been using classes all the way through the course!\n",
    "* How to instantiate multiple instances of a class.\n",
    "* How to declare a class and define a class constructor method.\n",
    "* What is meant by class attributes and methods.\n",
    "\n",
    "> It is worth noting that in python you don't have to use classes you can actually achieve everything with functions.  However, the abstraction benefits of OO are really important for the design and organisation of complex projects."
   ]
  },
  {
   "cell_type": "markdown",
   "metadata": {},
   "source": [
    "# Working with objects: An object orientated text adventure game\n",
    "\n",
    "Back in the late 80s and early 90s a popular type of game on micro-computers, such as the **Commodore 64** and **ZX Spectrum**, was the **text adventure**. These were games where a player had to navigate and solve puzzles in a game world with only text descriptions of locations as their guide!\n",
    "\n",
    "These types of games lend themselves nicely to abstraction offered in object orientated methods of design (and python command line interfaces).  For example, in a very simple implementation we could have a class of type `Game` that accepts a limited number of commands (for example, \"n\" to represent 'go north' or \"look\" to represent 'look and describe the room'.).  The `Game` would encapsulate one or more `Room` objects that describes a location and contain exits to other `Room` objects.  \n",
    "\n",
    "## Text Hospital\n",
    "\n",
    "We will start by creating a text based hospital world.  The game will be comprised by network of three `Room` objects: a reception, a ward and the operating theatre."
   ]
  },
  {
   "cell_type": "markdown",
   "metadata": {},
   "source": [
    "## Imports"
   ]
  },
  {
   "cell_type": "code",
   "execution_count": null,
   "metadata": {},
   "outputs": [],
   "source": [
    "from text_adventure.basic_game import TextWorld, Room"
   ]
  },
  {
   "cell_type": "markdown",
   "metadata": {},
   "source": [
    "## Setting and getting attributes and methods\n",
    "\n",
    "Each object we will instantiate has its own attribute and methods.  You have come across these before in a different context.  \n",
    "\n",
    "An attribute represents a **variable** that is local to the object.  For example, each `Room` has a `description` attribute. You can access the attribute by following the object name with a **'.'** and then name of the attribute.\n",
    "\n",
    "A method is the same as a **function**, but it is again attached to the object.  For example, objects of type `Room` have a `add_exit(room, direction)` method that allows you to pass in another Room object and a direction of travel from the current room (these are stored in the attribute exit - a dict).\n",
    "\n"
   ]
  },
  {
   "cell_type": "code",
   "execution_count": null,
   "metadata": {},
   "outputs": [],
   "source": [
    "# Let's instantiate some Room objects to represent our network of rooms\n",
    "\n",
    "#start fo the game = reception\n",
    "reception = Room(name=\"reception\")\n",
    "reception.description = \"\"\"You are stood in the busy hospital reception.\n",
    "To the south, east and west are wards with COVID19 restricted areas. \n",
    "To the north is a corridor.\"\"\"\n",
    "\n",
    "corridor = Room(name='corridor')\n",
    "corridor.description = \"\"\"A long corridor branching in three directions. \n",
    "To the north is signposted 'WARD'.  \n",
    "The south is  signposted 'RECEPTION'.\n",
    "The east is signposted 'THEATRE'\"\"\"\n",
    "\n",
    "ward = Room(name=\"ward\")\n",
    "ward.description = \"\"\"You are on the general medical ward. There are 10 beds\n",
    "and all seem to be full today.  There is a smell of disinfectant. \n",
    "The exit is to the south\"\"\"\n",
    "\n",
    "theatre = Room(name=\"theatre\")\n",
    "theatre.description = \"\"\"You are in the operating theatre.  Its empty today as\n",
    "all of the elective operations have been cancelled.\n",
    "An exit is to the west.\"\"\"\n",
    "\n",
    "#add the exits by calling the add_exit() method  \n",
    "reception.add_exit(corridor, 'n')\n",
    "corridor.add_exit(reception, 's')\n",
    "corridor.add_exit(ward, 'n')\n",
    "corridor.add_exit(theatre, 'e')\n",
    "ward.add_exit(corridor, 's')\n",
    "theatre.add_exit(corridor, 'w')\n",
    "\n",
    "rooms_collection = [reception, corridor, ward, theatre]"
   ]
  },
  {
   "cell_type": "code",
   "execution_count": null,
   "metadata": {},
   "outputs": [],
   "source": [
    "print(reception)"
   ]
  },
  {
   "cell_type": "code",
   "execution_count": null,
   "metadata": {},
   "outputs": [],
   "source": [
    "#let's take a look at the description of reception via its attribute\n",
    "print(reception.description)"
   ]
  },
  {
   "cell_type": "code",
   "execution_count": null,
   "metadata": {},
   "outputs": [],
   "source": [
    "#reception only has a single exit\n",
    "reception.exits"
   ]
  },
  {
   "cell_type": "code",
   "execution_count": null,
   "metadata": {},
   "outputs": [],
   "source": [
    "#corridor has three exits\n",
    "corridor.exits"
   ]
  },
  {
   "cell_type": "code",
   "execution_count": null,
   "metadata": {},
   "outputs": [],
   "source": [
    "#create the game room\n",
    "adventure = TextWorld(name='text hospital world', rooms=rooms_collection, \n",
    "                      start_index=0)\n",
    "\n",
    "#set the legal commands for the game\n",
    "#directions a player can move and command they can issue.\n",
    "adventure.legal_commands = ['look']\n",
    "adventure.legal_exits = ['n', 'e', 's', 'w']\n",
    "\n",
    "adventure.opening = \"\"\"Welcome to your local hospital! Unfortunatly due to the \n",
    "pandemic most of the hospital is under restrictions today. But there are a few\n",
    "areas where it is safe to visit.\n",
    "\"\"\""
   ]
  },
  {
   "cell_type": "code",
   "execution_count": null,
   "metadata": {},
   "outputs": [],
   "source": [
    "print(adventure)"
   ]
  },
  {
   "cell_type": "code",
   "execution_count": null,
   "metadata": {},
   "outputs": [],
   "source": [
    "def play_text_adventure(adventure):\n",
    "    '''\n",
    "    Play your text adventure!\n",
    "    '''\n",
    "    print('********************************************')\n",
    "    print(adventure.opening, end='\\n\\n')\n",
    "    print(adventure.current_room.describe())\n",
    "    \n",
    "    while adventure.active:\n",
    "        user_input = input(\"\\nWhat do you want to do? >>> \")\n",
    "        response = adventure.take_action(user_input)    \n",
    "        print(response)\n",
    "    print('Game over!')\n",
    "    "
   ]
  },
  {
   "cell_type": "code",
   "execution_count": null,
   "metadata": {},
   "outputs": [],
   "source": [
    "#play_text_adventure(adventure)"
   ]
  },
  {
   "cell_type": "markdown",
   "metadata": {},
   "source": [
    "# How to build a class in python\n",
    "\n",
    "Now that we have learnt how to instantiate objects and use frameworks of python classes we need to learn how to code a class.\n",
    "\n",
    "We will start with a very simple example and then take a look at the `Room` class from our text adventure framework.\n",
    "\n",
    "## The world's most simple python class\n",
    "\n",
    "We declare a class in python using the `class` keyword."
   ]
  },
  {
   "cell_type": "code",
   "execution_count": null,
   "metadata": {},
   "outputs": [],
   "source": [
    "class Patient: \n",
    "    pass"
   ]
  },
  {
   "cell_type": "code",
   "execution_count": null,
   "metadata": {},
   "outputs": [],
   "source": [
    "#create an object of type `Patient`\n",
    "new_patient = Patient()\n",
    "\n",
    "#in python we can dynamically add attributes\n",
    "new_patient.name = 'Tom'\n",
    "new_patient.occupation = 'data scientist'\n",
    "\n",
    "print(new_patient.name)"
   ]
  },
  {
   "cell_type": "markdown",
   "metadata": {},
   "source": [
    "## Most classes have a constructor `__init__()` method\n",
    "\n",
    "In most classes I code, I include an `__init__()` method.  It is the method called when you create an instance of the class. This is sometimes called a **contructor method**, as it is used when an object is constructed.  A simple example is below.\n",
    "\n",
    "Note the use of the argument `self`.  This is a special method parameter that must be included as the first parameter in **all** methods in your class.  `self` is the way an object internally references itself.  If you need your class to have an attribute called `name` then you refer to it as `self.name`.  This means that any method in the class can access the attribute."
   ]
  },
  {
   "cell_type": "code",
   "execution_count": null,
   "metadata": {},
   "outputs": [],
   "source": [
    "class Patient:\n",
    "    def __init__(self):\n",
    "        self.name = 'joe bloggs'\n",
    "        self.occupation = 'coder'"
   ]
  },
  {
   "cell_type": "code",
   "execution_count": null,
   "metadata": {},
   "outputs": [],
   "source": [
    "patient2 = Patient()\n",
    "print(patient2.name)\n",
    "print(patient2.occupation)"
   ]
  },
  {
   "cell_type": "markdown",
   "metadata": {},
   "source": [
    "### including parameters in the constructor method"
   ]
  },
  {
   "cell_type": "code",
   "execution_count": null,
   "metadata": {},
   "outputs": [],
   "source": [
    "class Patient:\n",
    "    def __init__(self, name, occupation, age):\n",
    "        self.name = name\n",
    "        self.occupation = occupation\n",
    "        self.age = age \n",
    "        \n",
    "        #example of an attribute that is not set by the constructor\n",
    "        #but still needs to be initialised.\n",
    "        self.triage_band = None"
   ]
  },
  {
   "cell_type": "code",
   "execution_count": null,
   "metadata": {},
   "outputs": [],
   "source": [
    "patient3 = Patient('Joe Bloggs', 'ex-coder', 87)\n",
    "print(patient3.name)\n",
    "print(patient3.occupation)\n",
    "print(patient3.age)\n",
    "print(patient3.triage_band)"
   ]
  },
  {
   "cell_type": "markdown",
   "metadata": {},
   "source": [
    "# The `Room` class from the Hospital Basic Text Adventure"
   ]
  },
  {
   "cell_type": "code",
   "execution_count": null,
   "metadata": {},
   "outputs": [],
   "source": [
    "class Room:\n",
    "    '''\n",
    "    Encapsulates a location/room within a `TextWorld` framework\n",
    "\n",
    "    A `Room` has a number of exits to other `Room` objects\n",
    "    '''\n",
    "    def __init__(self, name, description=\"\"):\n",
    "        '''\n",
    "        Constructor method\n",
    "        \n",
    "        Params:\n",
    "        ------\n",
    "        name: str\n",
    "            A short hand description of the room \n",
    "            \n",
    "        description: str\n",
    "            A long description of the room.\n",
    "        '''\n",
    "        self.name = name\n",
    "        self.description = description\n",
    "        \n",
    "        #exits are held in a dictionary\n",
    "        self.exits = {}              \n",
    "\n",
    "    def add_exit(self, room, direction):\n",
    "        '''\n",
    "        Add an exit to the room\n",
    "\n",
    "        Params:\n",
    "        ------\n",
    "        room: Room\n",
    "            a Room object to link \n",
    "\n",
    "        direction: str\n",
    "            The str command to access the room\n",
    "        '''\n",
    "        self.exits[direction] = room\n",
    "\n",
    "    def exit(self, direction):\n",
    "        '''\n",
    "        Exit the `Room` in the specified direction and\n",
    "        return the new `Room`\n",
    "\n",
    "        Params:\n",
    "        ------\n",
    "        direction: str\n",
    "            A command string representing the direction.\n",
    "            \n",
    "        Returns:\n",
    "        -------\n",
    "        Room\n",
    "            \n",
    "        Raise:\n",
    "        ------\n",
    "        ValueError: invalid direction of exit\n",
    "        '''\n",
    "        if direction in self.exits:\n",
    "            return self.exits[direction]\n",
    "        else:\n",
    "            raise ValueError()"
   ]
  },
  {
   "cell_type": "markdown",
   "metadata": {},
   "source": [
    "# The `TextWorld` class"
   ]
  },
  {
   "cell_type": "code",
   "execution_count": null,
   "metadata": {},
   "outputs": [],
   "source": [
    "class TextWorld:\n",
    "    '''\n",
    "    A TextWorld encapsulate the logic and Room objects that comprise the game.\n",
    "    '''\n",
    "    def __init__(self, name, rooms, start_index=0):\n",
    "        '''\n",
    "        Constructor method for World\n",
    "\n",
    "        Parameters:\n",
    "        ----------\n",
    "        rooms: list\n",
    "            A list of `Room` objects in the world.\n",
    "\n",
    "        start_index: int, optional (default=0)\n",
    "            The index of the room where the player begins their adventure.\n",
    "\n",
    "        '''\n",
    "        self.name = name\n",
    "        self.rooms = rooms\n",
    "        #set start `Room`\n",
    "        self.current_room = self.rooms[start_index]\n",
    "        \n",
    "        #default sets of commands\n",
    "        self.legal_exits = ['n', 'e', 's', 'w']\n",
    "        self.legal_commands =['look']\n",
    "        \n",
    "        #counter on actions taken\n",
    "        self.n_actions = 0\n",
    "        \n",
    "        #the game is active\n",
    "        self.active = True\n",
    "\n",
    "    def take_action(self, command):\n",
    "        '''\n",
    "        Take an action in the TextWorld\n",
    "\n",
    "        Parameters:\n",
    "        -----------\n",
    "        command: str\n",
    "            A command to parse and execute as a game action\n",
    "\n",
    "        Returns:\n",
    "        --------\n",
    "        str: a string message to display to the player.\n",
    "        '''\n",
    "\n",
    "        #no. of actions taken\n",
    "        self.n_actions += 1\n",
    "\n",
    "        #handle action to move room\n",
    "        if command in self.legal_exits:\n",
    "            msg = ''\n",
    "            try:\n",
    "                self.current_room = self.current_room.exit(command)\n",
    "                msg = self.current_room.description\n",
    "            except ValueError:\n",
    "                msg = 'You cannot go that way.'\n",
    "            finally:\n",
    "                return msg\n",
    "\n",
    "        #parse commands (split) and process\n",
    "        parsed_command = command.split()\n",
    "        if parsed_command[0] in self.legal_commands:\n",
    "            #handle command\n",
    "            if parsed_command[0] == 'look':\n",
    "                return self.current_room.description\n",
    "        else:\n",
    "            #handle command error\n",
    "            return f\"I don't know how to {command}\""
   ]
  },
  {
   "cell_type": "markdown",
   "metadata": {},
   "source": [
    "# More complex OO frameworks\n",
    "\n",
    "## Classes are customised by Inheritance"
   ]
  },
  {
   "cell_type": "markdown",
   "metadata": {},
   "source": [
    "> **A note of caution**: Over time I've learnt to be somewhat wary of complex multiple inheritance structures **in any programming language**.  Inheritance brings huge benefits in terms of code reuse, but you also need to learn good OO design principals in order to avoid unexpected dependencies in your code and avoid major rework due to small changes in a projects requirements.\n",
    "\n",
    "Let's work with a simple example first: "
   ]
  },
  {
   "cell_type": "code",
   "execution_count": null,
   "metadata": {},
   "outputs": [],
   "source": [
    "import random\n",
    "\n",
    "#`Patient` is refered to as a 'super class'\n",
    "class Patient:\n",
    "    def __init__(self, name, occupation, age):\n",
    "        self.name = name\n",
    "        self.occupation = occupation\n",
    "        self.age = age \n",
    "        self.triage_band = None\n",
    "        \n",
    "    def set_random_triage_band(self):\n",
    "        '''set a random triage band 1 - 5'''\n",
    "        self.triage_band = random.randint(1, 5)"
   ]
  },
  {
   "cell_type": "code",
   "execution_count": null,
   "metadata": {},
   "outputs": [],
   "source": [
    "#subclass `StrokePatient`\n",
    "class StrokePatient(Patient):\n",
    "    def __init__(self, name, occupation, age, stroke_type=1):\n",
    "        #call the constructor of the superclass\n",
    "        super().__init__(name, occupation, age)\n",
    "        self.stroke_type = stroke_type\n",
    "        "
   ]
  },
  {
   "cell_type": "code",
   "execution_count": null,
   "metadata": {},
   "outputs": [],
   "source": [
    "#create an instance of a `StrokePatient` and use inherited methods\n",
    "random.seed(42)\n",
    "\n",
    "new_patient = StrokePatient('Joe Blogs', 'Teacher', 45)\n",
    "new_patient.set_random_triage_band()\n",
    "print(new_patient.name)\n",
    "print(new_patient.triage_band)"
   ]
  },
  {
   "cell_type": "markdown",
   "metadata": {},
   "source": [
    "# **Has-a**: An alternative OO design.  \n",
    "\n",
    "In the previous example `StrokePatient` **is-a** specialisation of `Patient`.  An alternative way to frame this design problem as one of **object composition** where a `StrokeCase` **has-a** `Patient`.  \n",
    "\n",
    "This approach provides slightly more flexibility than direct inheritance. For example you can pass in a different type of object as long as it implements the same interface.  It doesn't however, require a bit more code to setup. \n",
    "\n",
    "E.g."
   ]
  },
  {
   "cell_type": "code",
   "execution_count": null,
   "metadata": {},
   "outputs": [],
   "source": [
    "#this time patient is a parameter instead of a superclass\n",
    "class StrokeCase:\n",
    "    def __init__(self, patient, stroke_type=1):\n",
    "        self.patient = patient\n",
    "        self.stroke_type = stroke_type\n",
    "        \n",
    "    @property\n",
    "    def triage_band(self):\n",
    "        return self.patient.triage_band\n",
    "        \n",
    "    def set_random_triage_band(self):\n",
    "        self.patient.set_random_triage_band()\n"
   ]
  },
  {
   "cell_type": "code",
   "execution_count": null,
   "metadata": {},
   "outputs": [],
   "source": [
    "random.seed(101)\n",
    "new_patient = Patient('Joe Bloggs', 'Teacher', 45)\n",
    "stroke = StrokeCase(new_patient)\n",
    "stroke.set_random_triage_band()\n",
    "print(stroke.triage_band)"
   ]
  },
  {
   "cell_type": "markdown",
   "metadata": {},
   "source": [
    "# Using inheritance to allow a `Room` and a game player to hold inventory"
   ]
  },
  {
   "cell_type": "code",
   "execution_count": null,
   "metadata": {},
   "outputs": [],
   "source": [
    "from text_adventure.advanced_game import Room, TextWorld, InventoryItem"
   ]
  },
  {
   "cell_type": "code",
   "execution_count": null,
   "metadata": {},
   "outputs": [],
   "source": [
    "def hospital_with_inventory():\n",
    "    # Let's instantiate some Room objects to represent our network of rooms\n",
    "\n",
    "    #start fo the game = reception\n",
    "    reception = Room(name=\"reception\")\n",
    "    reception.description = \"\"\"You are stood in the busy hospital reception.\n",
    "    To the south, east and west are wards with COVID19 restricted areas. \n",
    "    To the north is a corridor.\"\"\"\n",
    "\n",
    "    corridor = Room(name='corridor')\n",
    "    corridor.description = \"\"\"A long corridor branching in three directions. \n",
    "    To the north is signposted 'WARD'.  \n",
    "    The south is  signposted 'RECEPTION'.\n",
    "    The east is signposted 'THEATRE'\"\"\"\n",
    "\n",
    "    ward = Room(name=\"ward\")\n",
    "    ward.description = \"\"\"You are on the general medical ward. There are 10 beds\n",
    "    and all seem to be full today.  There is a smell of disinfectant. \n",
    "    The exit is to the south\"\"\"\n",
    "\n",
    "    theatre = Room(name=\"theatre\")\n",
    "    theatre.description = \"\"\"You are in the operating theatre. Its empty today as\n",
    "    all of the elective operations have been cancelled.\n",
    "    An exit is to the west.\"\"\"\n",
    "\n",
    "    #add the exits by calling the add_exit() method  \n",
    "    reception.add_exit(corridor, 'n')\n",
    "    corridor.add_exit(reception, 's')\n",
    "    corridor.add_exit(ward, 'n')\n",
    "    corridor.add_exit(theatre, 'e')\n",
    "    ward.add_exit(corridor, 's')\n",
    "    theatre.add_exit(corridor, 'w')\n",
    "\n",
    "    rooms_collection = [reception, corridor, ward, theatre]\n",
    "    \n",
    "    #add inventory items\n",
    "    clipboard = InventoryItem('a medical clipboard')\n",
    "    clipboard.long_description = \"\"\"It a medical clipboard from the 1980s. \n",
    "    It doesn't seem very secure to leave this hanging around.\"\"\"\n",
    "    clipboard.add_alias('clipboard')\n",
    "    clipboard.add_alias('clip')\n",
    "    clipboard.add_alias('board')\n",
    "    \n",
    "    grapes = InventoryItem('a bunch of grapes')\n",
    "    grapes.long_description = \"\"\"A bunch of juicy green grapes. \n",
    "    From Lidl according to the sticker \"\"\"\n",
    "    grapes.add_alias('grapes')\n",
    "    grapes.add_alias('bunch')\n",
    "    \n",
    "    ward.add_inventory(grapes)\n",
    "    reception.add_inventory(clipboard)\n",
    "    \n",
    "    #create the game room\n",
    "    adventure = TextWorld(name='text hospital world', rooms=rooms_collection, \n",
    "                          start_index=0)\n",
    "\n",
    "    #set the legal commands for the game\n",
    "    #directions a player can move and command they can issue.\n",
    "\n",
    "    adventure.opening = \"\"\"Welcome to your local hospital! Unfortunatly due to the \n",
    "    pandemic most of the hospital is under restrictions today. But there are a few\n",
    "    areas where it is safe to visit.\n",
    "    \"\"\"\n",
    "    \n",
    "    return adventure"
   ]
  },
  {
   "cell_type": "code",
   "execution_count": null,
   "metadata": {},
   "outputs": [],
   "source": [
    "game = hospital_with_inventory()"
   ]
  },
  {
   "cell_type": "code",
   "execution_count": null,
   "metadata": {},
   "outputs": [],
   "source": [
    "game"
   ]
  },
  {
   "cell_type": "code",
   "execution_count": null,
   "metadata": {},
   "outputs": [],
   "source": [
    "play_text_adventure(game)"
   ]
  },
  {
   "cell_type": "code",
   "execution_count": null,
   "metadata": {},
   "outputs": [],
   "source": []
  }
 ],
 "metadata": {
  "kernelspec": {
   "display_name": "Python 3",
   "language": "python",
   "name": "python3"
  },
  "language_info": {
   "codemirror_mode": {
    "name": "ipython",
    "version": 3
   },
   "file_extension": ".py",
   "mimetype": "text/x-python",
   "name": "python",
   "nbconvert_exporter": "python",
   "pygments_lexer": "ipython3",
   "version": "3.7.3"
  }
 },
 "nbformat": 4,
 "nbformat_minor": 4
}
